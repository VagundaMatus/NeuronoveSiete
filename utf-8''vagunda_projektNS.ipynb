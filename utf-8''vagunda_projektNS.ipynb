{
  "cells": [
    {
      "metadata": {
        "trusted": true
      },
      "cell_type": "code",
      "source": "import numpy as np \nimport pandas as pd \n%matplotlib inline",
      "execution_count": 3,
      "outputs": [
        {
          "output_type": "stream",
          "text": "/home/nbuser/anaconda3_501/lib/python3.6/site-packages/matplotlib/font_manager.py:229: UserWarning: Matplotlib is building the font cache using fc-list. This may take a moment.\n  'Matplotlib is building the font cache using fc-list. '\n",
          "name": "stderr"
        }
      ]
    },
    {
      "metadata": {
        "trusted": true
      },
      "cell_type": "code",
      "source": "!pip install fbprophet",
      "execution_count": 15,
      "outputs": [
        {
          "output_type": "stream",
          "text": "Collecting fbprophet\n\u001b[?25l  Downloading https://files.pythonhosted.org/packages/f7/86/4509e952f9724f084625e93e0bf8d8519b25c79029a0a916b0f996644c75/fbprophet-0.6.tar.gz (54kB)\n\u001b[K     |████████████████████████████████| 61kB 177kB/s eta 0:00:011\n\u001b[?25hRequirement already satisfied: Cython>=0.22 in /home/nbuser/anaconda3_501/lib/python3.6/site-packages (from fbprophet) (0.29.14)\nCollecting cmdstanpy==0.4\n  Downloading https://files.pythonhosted.org/packages/e3/a7/6d045520e6ad11cf630b483f02a0645e743fcc7f75c28fd344c769100203/cmdstanpy-0.4.0-py3-none-any.whl\nCollecting pystan>=2.14\n\u001b[?25l  Downloading https://files.pythonhosted.org/packages/b9/97/a613a98b72090e36b3bc5edc56977596038986cd224a2ae651c4c6a688b3/pystan-2.19.1.1-cp36-cp36m-manylinux1_x86_64.whl (67.3MB)\n\u001b[K     |████████████████████████████████| 67.3MB 3.2kB/s eta 0:00:014   |██▋                             | 5.4MB 4.1MB/s eta 0:00:16     |█████▎                          | 11.2MB 17.3MB/s eta 0:00:04     |███████▋                        | 15.9MB 1.8MB/s eta 0:00:29     |████████▎                       | 17.5MB 1.8MB/s eta 0:00:28     |█████████                       | 18.8MB 3.1MB/s eta 0:00:16     |█████████████▋                  | 28.7MB 2.2MB/s eta 0:00:18     |████████████████                | 33.7MB 2.2MB/s eta 0:00:16/s eta 0:02:42�██████▏            | 40.2MB 2.1MB/s eta 0:00:13��▍       | 51.4MB 3.2MB/s eta 0:00:06�████████████▌      | 53.6MB 212kB/s eta 0:01:05�█████████████      | 54.8MB 212kB/s eta 0:00:59████████████████████████▍     | 55.4MB 212kB/s eta 0:00:56████████████████████████▉     | 56.5MB 1.6MB/s eta 0:00:07MB/s eta 0:00:07��████▌   | 59.9MB 533kB/s eta 0:00:14��█████   | 60.8MB 2.4MB/s eta 0:00:03��███████████████▋  | 62.2MB 2.4MB/s eta 0:00:03��██████████████████████████▌ | 64.0MB 222kB/s eta 0:00:15�██████████████████████████ | 65.4MB 230kB/s eta 0:00:09ta 0:00:01\n\u001b[?25hRequirement already satisfied: numpy>=1.10.0 in /home/nbuser/anaconda3_501/lib/python3.6/site-packages (from fbprophet) (1.16.2)\nRequirement already satisfied: pandas>=0.23.4 in /home/nbuser/anaconda3_501/lib/python3.6/site-packages (from fbprophet) (0.23.4)\nRequirement already satisfied: matplotlib>=2.0.0 in /home/nbuser/anaconda3_501/lib/python3.6/site-packages (from fbprophet) (3.0.0)\nCollecting LunarCalendar>=0.0.9\n  Downloading https://files.pythonhosted.org/packages/ab/e0/a52ffc02395474858552ca6437226e23ad67e25fd85cb387f02e479cfe01/LunarCalendar-0.0.9-py2.py3-none-any.whl\nCollecting convertdate>=2.1.2\n  Downloading https://files.pythonhosted.org/packages/c9/f8/02a18000b0fbfd714f78aa16359796727a181e80f679682e3f62771a5c23/convertdate-2.2.0-py3-none-any.whl\nCollecting holidays>=0.9.5\n\u001b[?25l  Downloading https://files.pythonhosted.org/packages/0a/95/73efcf821449709def494400d497aac620a3caeb83af932d874559030ced/holidays-0.10.2.tar.gz (110kB)\n\u001b[K     |████████████████████████████████| 112kB 9.5MB/s eta 0:00:01\n\u001b[?25hCollecting setuptools-git>=1.2\n  Downloading https://files.pythonhosted.org/packages/05/97/dd99fa9c0d9627a7b3c103a00f1566d8193aca8d473884ed258cca82b06f/setuptools_git-1.2-py2.py3-none-any.whl\nRequirement already satisfied: python-dateutil>=2.8.0 in /home/nbuser/anaconda3_501/lib/python3.6/site-packages (from fbprophet) (2.8.1)\nRequirement already satisfied: pytz>=2011k in /home/nbuser/anaconda3_501/lib/python3.6/site-packages (from pandas>=0.23.4->fbprophet) (2019.3)\nRequirement already satisfied: cycler>=0.10 in /home/nbuser/anaconda3_501/lib/python3.6/site-packages (from matplotlib>=2.0.0->fbprophet) (0.10.0)\nRequirement already satisfied: kiwisolver>=1.0.1 in /home/nbuser/anaconda3_501/lib/python3.6/site-packages (from matplotlib>=2.0.0->fbprophet) (1.0.1)\nRequirement already satisfied: pyparsing!=2.0.4,!=2.1.2,!=2.1.6,>=2.0.1 in /home/nbuser/anaconda3_501/lib/python3.6/site-packages (from matplotlib>=2.0.0->fbprophet) (2.3.0)\nCollecting ephem>=3.7.5.3\n\u001b[?25l  Downloading https://files.pythonhosted.org/packages/6e/ba/7c7ac20f0d5d97d3d1a35c21916c19f3420457cdb4ea70f714e64277fd1d/ephem-3.7.7.1-cp36-cp36m-manylinux2010_x86_64.whl (1.2MB)\n\u001b[K     |████████████████████████████████| 1.2MB 7.1MB/s eta 0:00:01\n\u001b[?25hCollecting pymeeus<=1,>=0.3.6\n\u001b[?25l  Downloading https://files.pythonhosted.org/packages/2c/30/47957d487fff94083bdd17247734c165f12b5ac39a3abd1aa476a93eea6e/PyMeeus-0.3.7.tar.gz (732kB)\n\u001b[K     |████████████████████████████████| 737kB 4.4MB/s eta 0:00:01\n\u001b[?25hRequirement already satisfied: six in /home/nbuser/anaconda3_501/lib/python3.6/site-packages (from holidays>=0.9.5->fbprophet) (1.11.0)\nCollecting korean_lunar_calendar\n  Downloading https://files.pythonhosted.org/packages/15/41/aa426a4a9141afd8e7f5c8312bb59d5693274f3f7b34e73bdce4ee48b4c1/korean_lunar_calendar-0.2.1-py3-none-any.whl\nRequirement already satisfied: setuptools in /home/nbuser/anaconda3_501/lib/python3.6/site-packages (from kiwisolver>=1.0.1->matplotlib>=2.0.0->fbprophet) (41.6.0)\nBuilding wheels for collected packages: fbprophet, holidays, pymeeus\n  Building wheel for fbprophet (setup.py) ... \u001b[?25lerror\n\u001b[31m  ERROR: Command errored out with exit status 1:\n   command: /home/nbuser/anaconda3_501/bin/python -u -c 'import sys, setuptools, tokenize; sys.argv[0] = '\"'\"'/tmp/pip-install-ihsst17t/fbprophet/setup.py'\"'\"'; __file__='\"'\"'/tmp/pip-install-ihsst17t/fbprophet/setup.py'\"'\"';f=getattr(tokenize, '\"'\"'open'\"'\"', open)(__file__);code=f.read().replace('\"'\"'\\r\\n'\"'\"', '\"'\"'\\n'\"'\"');f.close();exec(compile(code, __file__, '\"'\"'exec'\"'\"'))' bdist_wheel -d /tmp/pip-wheel-sf_cdxd0 --python-tag cp36\n       cwd: /tmp/pip-install-ihsst17t/fbprophet/\n  Complete output (44 lines):\n  running bdist_wheel\n  running build\n  running build_py\n  creating build\n  creating build/lib\n  creating build/lib/fbprophet\n  creating build/lib/fbprophet/stan_model\n  Traceback (most recent call last):\n    File \"<string>\", line 1, in <module>\n    File \"/tmp/pip-install-ihsst17t/fbprophet/setup.py\", line 148, in <module>\n      \"\"\"\n    File \"/home/nbuser/anaconda3_501/lib/python3.6/site-packages/setuptools/__init__.py\", line 145, in setup\n      return distutils.core.setup(**attrs)\n    File \"/home/nbuser/anaconda3_501/lib/python3.6/distutils/core.py\", line 148, in setup\n      dist.run_commands()\n    File \"/home/nbuser/anaconda3_501/lib/python3.6/distutils/dist.py\", line 955, in run_commands\n      self.run_command(cmd)\n    File \"/home/nbuser/anaconda3_501/lib/python3.6/distutils/dist.py\", line 974, in run_command\n      cmd_obj.run()\n    File \"/home/nbuser/anaconda3_501/lib/python3.6/site-packages/wheel/bdist_wheel.py\", line 204, in run\n      self.run_command('build')\n    File \"/home/nbuser/anaconda3_501/lib/python3.6/distutils/cmd.py\", line 313, in run_command\n      self.distribution.run_command(command)\n    File \"/home/nbuser/anaconda3_501/lib/python3.6/distutils/dist.py\", line 974, in run_command\n      cmd_obj.run()\n    File \"/home/nbuser/anaconda3_501/lib/python3.6/distutils/command/build.py\", line 135, in run\n      self.run_command(cmd_name)\n    File \"/home/nbuser/anaconda3_501/lib/python3.6/distutils/cmd.py\", line 313, in run_command\n      self.distribution.run_command(command)\n    File \"/home/nbuser/anaconda3_501/lib/python3.6/distutils/dist.py\", line 974, in run_command\n      cmd_obj.run()\n    File \"/tmp/pip-install-ihsst17t/fbprophet/setup.py\", line 48, in run\n      build_models(target_dir)\n    File \"/tmp/pip-install-ihsst17t/fbprophet/setup.py\", line 36, in build_models\n      from fbprophet.models import StanBackendEnum\n    File \"/tmp/pip-install-ihsst17t/fbprophet/fbprophet/__init__.py\", line 8, in <module>\n      from fbprophet.forecaster import Prophet\n    File \"/tmp/pip-install-ihsst17t/fbprophet/fbprophet/forecaster.py\", line 17, in <module>\n      from fbprophet.make_holidays import get_holiday_names, make_holidays_df\n    File \"/tmp/pip-install-ihsst17t/fbprophet/fbprophet/make_holidays.py\", line 14, in <module>\n      import fbprophet.hdays as hdays_part2\n    File \"/tmp/pip-install-ihsst17t/fbprophet/fbprophet/hdays.py\", line 13, in <module>\n      from convertdate.islamic import from_gregorian, to_gregorian\n  ModuleNotFoundError: No module named 'convertdate'\n  ----------------------------------------\u001b[0m\n\u001b[31m  ERROR: Failed building wheel for fbprophet\u001b[0m\n\u001b[?25h  Running setup.py clean for fbprophet\n",
          "name": "stdout"
        },
        {
          "output_type": "stream",
          "text": "  Building wheel for holidays (setup.py) ... \u001b[?25ldone\n\u001b[?25h  Created wheel for holidays: filename=holidays-0.10.2-cp36-none-any.whl size=117708 sha256=b16b2ead3e16f5365afc8088e2685ceb9dfbb2bfc6ccc645c74cfa76f0824418\n  Stored in directory: /home/nbuser/.cache/pip/wheels/68/55/29/95836cc75cbf85e6b7382e3e569613d6c050fcbe38d776ea64\n  Building wheel for pymeeus (setup.py) ... \u001b[?25ldone\n\u001b[?25h  Created wheel for pymeeus: filename=PyMeeus-0.3.7-cp36-none-any.whl size=691115 sha256=aca41d50c43146785a4a9899dfc6158af2c9934c669b13e3bb4ed801e53a3462\n  Stored in directory: /home/nbuser/.cache/pip/wheels/8d/1a/e7/684cd77a99aac294f976db834fe613b5424f7c4d75ffb0b84d\nSuccessfully built holidays pymeeus\nFailed to build fbprophet\nInstalling collected packages: cmdstanpy, pystan, ephem, LunarCalendar, pymeeus, convertdate, korean-lunar-calendar, holidays, setuptools-git, fbprophet\n    Running setup.py install for fbprophet ... \u001b[?25ldone\n\u001b[?25hSuccessfully installed LunarCalendar-0.0.9 cmdstanpy-0.4.0 convertdate-2.2.0 ephem-3.7.7.1 fbprophet-0.6 holidays-0.10.2 korean-lunar-calendar-0.2.1 pymeeus-0.3.7 pystan-2.19.1.1 setuptools-git-1.2\n\u001b[33mWARNING: You are using pip version 19.3.1; however, version 20.1 is available.\nYou should consider upgrading via the 'pip install --upgrade pip' command.\u001b[0m\n",
          "name": "stdout"
        }
      ]
    },
    {
      "metadata": {
        "trusted": true
      },
      "cell_type": "code",
      "source": "from fbprophet import Prophet\n",
      "execution_count": 16,
      "outputs": []
    },
    {
      "metadata": {
        "trusted": true
      },
      "cell_type": "code",
      "source": "df = pd.read_csv('Avocado.csv')",
      "execution_count": 19,
      "outputs": []
    },
    {
      "metadata": {
        "trusted": true
      },
      "cell_type": "code",
      "source": "df.head()",
      "execution_count": 20,
      "outputs": [
        {
          "output_type": "execute_result",
          "execution_count": 20,
          "data": {
            "text/html": "<div>\n<style scoped>\n    .dataframe tbody tr th:only-of-type {\n        vertical-align: middle;\n    }\n\n    .dataframe tbody tr th {\n        vertical-align: top;\n    }\n\n    .dataframe thead th {\n        text-align: right;\n    }\n</style>\n<table border=\"1\" class=\"dataframe\">\n  <thead>\n    <tr style=\"text-align: right;\">\n      <th></th>\n      <th>Unnamed: 0</th>\n      <th>Date</th>\n      <th>AveragePrice</th>\n      <th>Total Volume</th>\n      <th>4046</th>\n      <th>4225</th>\n      <th>4770</th>\n      <th>Total Bags</th>\n      <th>Small Bags</th>\n      <th>Large Bags</th>\n      <th>XLarge Bags</th>\n      <th>type</th>\n      <th>year</th>\n      <th>region</th>\n    </tr>\n  </thead>\n  <tbody>\n    <tr>\n      <th>0</th>\n      <td>0</td>\n      <td>2015-12-27</td>\n      <td>1.33</td>\n      <td>64236.62</td>\n      <td>1036.74</td>\n      <td>54454.85</td>\n      <td>48.16</td>\n      <td>8696.87</td>\n      <td>8603.62</td>\n      <td>93.25</td>\n      <td>0.0</td>\n      <td>conventional</td>\n      <td>2015</td>\n      <td>Albany</td>\n    </tr>\n    <tr>\n      <th>1</th>\n      <td>1</td>\n      <td>2015-12-20</td>\n      <td>1.35</td>\n      <td>54876.98</td>\n      <td>674.28</td>\n      <td>44638.81</td>\n      <td>58.33</td>\n      <td>9505.56</td>\n      <td>9408.07</td>\n      <td>97.49</td>\n      <td>0.0</td>\n      <td>conventional</td>\n      <td>2015</td>\n      <td>Albany</td>\n    </tr>\n    <tr>\n      <th>2</th>\n      <td>2</td>\n      <td>2015-12-13</td>\n      <td>0.93</td>\n      <td>118220.22</td>\n      <td>794.70</td>\n      <td>109149.67</td>\n      <td>130.50</td>\n      <td>8145.35</td>\n      <td>8042.21</td>\n      <td>103.14</td>\n      <td>0.0</td>\n      <td>conventional</td>\n      <td>2015</td>\n      <td>Albany</td>\n    </tr>\n    <tr>\n      <th>3</th>\n      <td>3</td>\n      <td>2015-12-06</td>\n      <td>1.08</td>\n      <td>78992.15</td>\n      <td>1132.00</td>\n      <td>71976.41</td>\n      <td>72.58</td>\n      <td>5811.16</td>\n      <td>5677.40</td>\n      <td>133.76</td>\n      <td>0.0</td>\n      <td>conventional</td>\n      <td>2015</td>\n      <td>Albany</td>\n    </tr>\n    <tr>\n      <th>4</th>\n      <td>4</td>\n      <td>2015-11-29</td>\n      <td>1.28</td>\n      <td>51039.60</td>\n      <td>941.48</td>\n      <td>43838.39</td>\n      <td>75.78</td>\n      <td>6183.95</td>\n      <td>5986.26</td>\n      <td>197.69</td>\n      <td>0.0</td>\n      <td>conventional</td>\n      <td>2015</td>\n      <td>Albany</td>\n    </tr>\n  </tbody>\n</table>\n</div>",
            "text/plain": "   Unnamed: 0        Date  AveragePrice  Total Volume     4046       4225  \\\n0           0  2015-12-27          1.33      64236.62  1036.74   54454.85   \n1           1  2015-12-20          1.35      54876.98   674.28   44638.81   \n2           2  2015-12-13          0.93     118220.22   794.70  109149.67   \n3           3  2015-12-06          1.08      78992.15  1132.00   71976.41   \n4           4  2015-11-29          1.28      51039.60   941.48   43838.39   \n\n     4770  Total Bags  Small Bags  Large Bags  XLarge Bags          type  \\\n0   48.16     8696.87     8603.62       93.25          0.0  conventional   \n1   58.33     9505.56     9408.07       97.49          0.0  conventional   \n2  130.50     8145.35     8042.21      103.14          0.0  conventional   \n3   72.58     5811.16     5677.40      133.76          0.0  conventional   \n4   75.78     6183.95     5986.26      197.69          0.0  conventional   \n\n   year  region  \n0  2015  Albany  \n1  2015  Albany  \n2  2015  Albany  \n3  2015  Albany  \n4  2015  Albany  "
          },
          "metadata": {}
        }
      ]
    },
    {
      "metadata": {
        "trusted": true
      },
      "cell_type": "code",
      "source": "",
      "execution_count": null,
      "outputs": []
    }
  ],
  "metadata": {
    "kernelspec": {
      "name": "python36",
      "display_name": "Python 3.6",
      "language": "python"
    },
    "language_info": {
      "mimetype": "text/x-python",
      "nbconvert_exporter": "python",
      "name": "python",
      "pygments_lexer": "ipython3",
      "version": "3.6.6",
      "file_extension": ".py",
      "codemirror_mode": {
        "version": 3,
        "name": "ipython"
      }
    }
  },
  "nbformat": 4,
  "nbformat_minor": 2
}